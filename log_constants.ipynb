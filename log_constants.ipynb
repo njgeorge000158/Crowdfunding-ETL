{
 "cells": [
  {
   "cell_type": "code",
   "execution_count": 1,
   "id": "d44e5df2",
   "metadata": {},
   "outputs": [],
   "source": [
    "#*******************************************************************************************\n",
    " #\n",
    " #  File Name:  log_constants.py\n",
    " #\n",
    " #  File Description:\n",
    " #      This Python script, log_constants.py, contains generic Python constants\n",
    " #      for documenting runtime information for review.\n",
    " #\n",
    " #\n",
    " #  Date            Description                             Programmer\n",
    " #  ----------      ------------------------------------    ------------------\n",
    " #  02/19/2024      Initial Development                     N James George\n",
    " #\n",
    " #******************************************************************************************/"
   ]
  },
  {
   "cell_type": "code",
   "execution_count": 2,
   "id": "be8b876d",
   "metadata": {},
   "outputs": [],
   "source": [
    "CONSTANT_LOCAL_FILE_NAME = 'log_constants.py'"
   ]
  },
  {
   "cell_type": "code",
   "execution_count": 3,
   "id": "30475155",
   "metadata": {},
   "outputs": [],
   "source": [
    "LOG_FLAG = False\n",
    "\n",
    "IMAGE_FLAG = False\n",
    "\n",
    "PROGRAM_DESIGNATION = ''\n",
    "\n",
    "LOGS_DIRECTORY_PATH = './logs'\n",
    "\n",
    "IMAGES_DIRECTORY_PATH = './images'\n",
    "\n",
    "BASE_LOG_FILE_NAME = '_log.txt'\n",
    "\n",
    "LOG_FILE_PATH = ''\n",
    "\n",
    "log_txt_file = None"
   ]
  },
  {
   "cell_type": "code",
   "execution_count": null,
   "id": "3254231a",
   "metadata": {},
   "outputs": [],
   "source": []
  }
 ],
 "metadata": {
  "kernelspec": {
   "display_name": "Python 3 (ipykernel)",
   "language": "python",
   "name": "python3"
  },
  "language_info": {
   "codemirror_mode": {
    "name": "ipython",
    "version": 3
   },
   "file_extension": ".py",
   "mimetype": "text/x-python",
   "name": "python",
   "nbconvert_exporter": "python",
   "pygments_lexer": "ipython3",
   "version": "3.11.5"
  }
 },
 "nbformat": 4,
 "nbformat_minor": 5
}
